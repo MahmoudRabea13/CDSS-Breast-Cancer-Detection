{
 "cells": [
  {
   "cell_type": "markdown",
   "source": [
    "# Implemnting Decision Tree ID3 Algorithm"
   ],
   "metadata": {}
  },
  {
   "cell_type": "code",
   "execution_count": 37,
   "source": [
    "import numpy as np \r\n",
    "import pandas as pd"
   ],
   "outputs": [],
   "metadata": {}
  },
  {
   "cell_type": "code",
   "execution_count": 38,
   "source": [
    "df = pd.read_csv(\"BreastCancer.csv\") #read the data\r\n",
    "df.head() #view the first five rows\r\n"
   ],
   "outputs": [],
   "metadata": {}
  },
  {
   "cell_type": "code",
   "execution_count": null,
   "source": [
    "# define function to calculate total entropy\r\n",
    "def calc_total_entropy(train_data, label, class_list):\r\n",
    "    total_row = train_data.shape[0] #the total size of the dataset\r\n",
    "    total_entr = 0\r\n",
    "    \r\n",
    "    for c in class_list: #for each class in the label\r\n",
    "        total_class_count = train_data[train_data[label] == c].shape[0] #number of the class\r\n",
    "        total_class_entr = - (total_class_count/total_row)*np.log2(total_class_count/total_row) #entropy of the class\r\n",
    "        total_entr += total_class_entr #adding the class entropy to the total entropy of the dataset\r\n",
    "    \r\n",
    "    return total_entr"
   ],
   "outputs": [],
   "metadata": {}
  },
  {
   "cell_type": "code",
   "execution_count": null,
   "source": [
    "# define function to calculate entropy for specific feature \r\n",
    "def calc_entropy(feature_value_data, label, class_list):\r\n",
    "    class_count = feature_value_data.shape[0]\r\n",
    "    entropy = 0\r\n",
    "    \r\n",
    "    for c in class_list:\r\n",
    "        label_class_count = feature_value_data[feature_value_data[label] == c].shape[0] #row count of class c \r\n",
    "        entropy_class = 0\r\n",
    "        if label_class_count != 0:\r\n",
    "            probability_class = label_class_count/class_count #probability of the class\r\n",
    "            entropy_class = - probability_class * np.log2(probability_class)  #entropy\r\n",
    "        entropy += entropy_class\r\n",
    "    return entropy"
   ],
   "outputs": [],
   "metadata": {}
  },
  {
   "cell_type": "code",
   "execution_count": null,
   "source": [
    "#function to calculate info gain \r\n",
    "def calc_info_gain(feature_name, train_data, label, class_list):\r\n",
    "    feature_value_list = train_data[feature_name].unique() #unqiue values of the feature\r\n",
    "    total_row = train_data.shape[0]\r\n",
    "    feature_info = 0.0\r\n",
    "    \r\n",
    "    for feature_value in feature_value_list:\r\n",
    "        feature_value_data = train_data[train_data[feature_name] == feature_value] #filtering rows with that feature_value\r\n",
    "        feature_value_count = feature_value_data.shape[0]\r\n",
    "        feature_value_entropy = calc_entropy(feature_value_data, label, class_list) #calculcating entropy for the feature value\r\n",
    "        feature_value_probability = feature_value_count/total_row\r\n",
    "        feature_info += feature_value_probability * feature_value_entropy #calculating information of the feature value\r\n",
    "        \r\n",
    "    return calc_total_entropy(train_data, label, class_list) - feature_info #calculating information gain by subtracting\r\n"
   ],
   "outputs": [],
   "metadata": {}
  },
  {
   "cell_type": "code",
   "execution_count": null,
   "source": [
    "#function to get the most informative feature\r\n",
    "def find_most_informative_feature(data, label, class_list):\r\n",
    "    feature_list = data.columns.drop(label) #finding the feature names in the dataset\r\n",
    "                                            #N.B. label is not a feature, so dropping it\r\n",
    "    max_info_gain = -1\r\n",
    "    max_info_feature = None\r\n",
    "    \r\n",
    "    for feature in feature_list:  #for each feature in the dataset\r\n",
    "        feature_info_gain = calc_info_gain(feature, data, label, class_list)\r\n",
    "        if max_info_gain < feature_info_gain: #selecting feature name with highest information gain\r\n",
    "            max_info_gain = feature_info_gain\r\n",
    "            max_info_feature = feature\r\n",
    "            \r\n",
    "    return max_info_feature #Return the feature with max info"
   ],
   "outputs": [],
   "metadata": {}
  },
  {
   "cell_type": "code",
   "execution_count": null,
   "source": [
    "# function the get sub-tree (nodes)\r\n",
    "def generate_sub_tree(feature, train_data, label, class_list):\r\n",
    "    feature_value_count_dict = train_data[feature].value_counts(sort=False) #dictionary of the count of unqiue feature value\r\n",
    "    tree = {} #sub tree or node\r\n",
    "    \r\n",
    "    for feature_value, count in feature_value_count_dict.iteritems():\r\n",
    "        feature_value_data = train_data[train_data[feature] == feature_value] #dataset with only feature = feature_value\r\n",
    "        \r\n",
    "        assigned_to_node = False #flag for tracking feature_value is pure class or not\r\n",
    "        for c in class_list: #for each class\r\n",
    "            class_count = feature_value_data[feature_value_data[label] == c].shape[0] #count of class c\r\n",
    "\r\n",
    "            if class_count == count: #count of (feature_value = count) of class (pure class)\r\n",
    "                tree[feature_value] = c #adding node to the tree\r\n",
    "                train_data = train_data[train_data[feature] != feature_value] #removing rows with feature_value\r\n",
    "                assigned_to_node = True\r\n",
    "        if not assigned_to_node: #not pure class\r\n",
    "            tree[feature_value] = \"?\" #as feature_value is not a pure class, it should be expanded further, \r\n",
    "                                        #so the branch is marking with ?\r\n",
    "            \r\n",
    "    return tree, train_data"
   ],
   "outputs": [],
   "metadata": {}
  },
  {
   "cell_type": "code",
   "execution_count": null,
   "source": [
    "# now with the help of the previous functions , we generate the tree \r\n",
    "def make_tree(root, prev_feature_value, data, label, class_list):\r\n",
    "    if data.shape[0] != 0: #if dataset becomes enpty after updating\r\n",
    "        max_info_feature = find_most_informative_feature(data, label, class_list) #most informative feature\r\n",
    "        tree, train_data = generate_sub_tree(max_info_feature, data, label, class_list) #getting tree node and updated dataset\r\n",
    "        next_root = None\r\n",
    "        \r\n",
    "        if prev_feature_value != None: #add to intermediate node of the tree\r\n",
    "            root[prev_feature_value] = dict()\r\n",
    "            root[prev_feature_value][max_info_feature] = tree\r\n",
    "            next_root = root[prev_feature_value][max_info_feature]\r\n",
    "        else: #add to root of the tree\r\n",
    "            root[max_info_feature] = tree\r\n",
    "            next_root = root[max_info_feature]\r\n",
    "        \r\n",
    "        for node, branch in list(next_root.items()): #iterating the tree node\r\n",
    "            if branch == \"?\": #if it is expandable\r\n",
    "                feature_value_data = train_data[train_data[max_info_feature] == node] #using the updated dataset\r\n",
    "                make_tree(next_root, node, feature_value_data, label, class_list) #recursive call with updated dataset\r\n"
   ],
   "outputs": [],
   "metadata": {}
  },
  {
   "cell_type": "code",
   "execution_count": null,
   "source": [
    "#function to generate id3 tree\r\n",
    "def id3(train_data_m, label):\r\n",
    "    train_data = train_data_m.copy() #getting a copy of the dataset\r\n",
    "    tree = {} #tree which will be updated\r\n",
    "    class_list = train_data[label].unique() #getting unqiue classes of the label\r\n",
    "    make_tree(tree, None, train_data, label, class_list) #start calling recursion\r\n",
    "    return tree"
   ],
   "outputs": [],
   "metadata": {}
  },
  {
   "cell_type": "code",
   "execution_count": null,
   "source": [
    "tree = id3(df, 'diagnosis')\r\n",
    "print(tree)"
   ],
   "outputs": [
    {
     "output_type": "stream",
     "name": "stderr",
     "text": [
      "C:\\Users\\mahmo\\AppData\\Local\\Temp\\ipykernel_18380\\86681295.py:6: FutureWarning: iteritems is deprecated and will be removed in a future version. Use .items instead.\n",
      "  for feature_value, count in feature_value_count_dict.iteritems():\n"
     ]
    },
    {
     "output_type": "stream",
     "name": "stdout",
     "text": [
      "{'id': {842302: 'M', 842517: 'M', 84300903: 'M', 84348301: 'M', 84358402: 'M', 843786: 'M', 844359: 'M', 84458202: 'M', 844981: 'M', 84501001: 'M', 845636: 'M', 84610002: 'M', 846226: 'M', 846381: 'M', 84667401: 'M', 84799002: 'M', 848406: 'M', 84862001: 'M', 849014: 'M', 8510426: 'B', 8510653: 'B', 8510824: 'B', 8511133: 'M', 851509: 'M', 852552: 'M', 852631: 'M', 852763: 'M', 852781: 'M', 852973: 'M', 853201: 'M', 853401: 'M', 853612: 'M', 85382601: 'M', 854002: 'M', 854039: 'M', 854253: 'M', 854268: 'M', 854941: 'B', 855133: 'M', 855138: 'M', 855167: 'M', 855563: 'M', 855625: 'M', 856106: 'M', 85638502: 'M', 857010: 'M', 85713702: 'B', 85715: 'M', 857155: 'B', 857156: 'B', 857343: 'B', 857373: 'B', 857374: 'B', 857392: 'M', 857438: 'M', 85759902: 'B', 857637: 'M', 857793: 'M', 857810: 'B', 858477: 'B', 858970: 'B', 858981: 'B', 858986: 'M', 859196: 'B', 85922302: 'M', 859283: 'M', 859464: 'B', 859465: 'B', 859471: 'B', 859487: 'B', 859575: 'M', 859711: 'B', 859717: 'M', 859983: 'M', 8610175: 'B', 8610404: 'M', 8610629: 'B', 8610637: 'M', 8610862: 'M', 8610908: 'B', 861103: 'B', 8611161: 'B', 8611555: 'M', 8611792: 'M', 8612080: 'B', 8612399: 'M', 86135501: 'M', 86135502: 'M', 861597: 'B', 861598: 'B', 861648: 'B', 861799: 'M', 861853: 'B', 862009: 'B', 862028: 'M', 86208: 'M', 86211: 'B', 862261: 'B', 862485: 'B', 862548: 'M', 862717: 'M', 862722: 'B', 862965: 'B', 862980: 'B', 862989: 'B', 863030: 'M', 863031: 'B', 863270: 'B', 86355: 'M', 864018: 'B', 864033: 'B', 86408: 'B', 86409: 'B', 864292: 'B', 864496: 'B', 864685: 'B', 864726: 'B', 864729: 'M', 864877: 'M', 865128: 'M', 865137: 'B', 86517: 'M', 865423: 'M', 865432: 'B', 865468: 'B', 86561: 'B', 866083: 'M', 866203: 'M', 866458: 'B', 866674: 'M', 866714: 'B', 8670: 'M', 86730502: 'M', 867387: 'B', 867739: 'M', 868202: 'M', 868223: 'B', 868682: 'B', 868826: 'M', 868871: 'B', 868999: 'B', 869104: 'M', 869218: 'B', 869224: 'B', 869254: 'B', 869476: 'B', 869691: 'M', 86973701: 'B', 86973702: 'B', 869931: 'B', 871001501: 'B', 871001502: 'B', 8710441: 'B', 87106: 'B', 8711002: 'B', 8711003: 'B', 8711202: 'M', 8711216: 'B', 871122: 'B', 871149: 'B', 8711561: 'B', 8711803: 'M', 871201: 'M', 8712064: 'B', 8712289: 'M', 8712291: 'B', 87127: 'B', 8712729: 'M', 8712766: 'M', 8712853: 'B', 87139402: 'B', 87163: 'M', 87164: 'M', 871641: 'B', 871642: 'B', 872113: 'B', 872608: 'B', 87281702: 'M', 873357: 'B', 873586: 'B', 873592: 'M', 873593: 'M', 873701: 'M', 873843: 'B', 873885: 'M', 874158: 'B', 874217: 'M', 874373: 'B', 874662: 'B', 874839: 'B', 874858: 'M', 875093: 'B', 875099: 'B', 875263: 'M', 87556202: 'M', 875878: 'B', 875938: 'M', 877159: 'M', 877486: 'M', 877500: 'M', 877501: 'B', 877989: 'M', 878796: 'M', 87880: 'M', 87930: 'B', 879523: 'M', 879804: 'B', 879830: 'M', 8810158: 'B', 8810436: 'B', 881046502: 'M', 8810528: 'B', 8810703: 'M', 881094802: 'M', 8810955: 'M', 8810987: 'M', 8811523: 'B', 8811779: 'B', 8811842: 'M', 88119002: 'M', 8812816: 'B', 8812818: 'B', 8812844: 'B', 8812877: 'M', 8813129: 'B', 88143502: 'B', 88147101: 'B', 88147102: 'B', 88147202: 'B', 881861: 'M', 881972: 'M', 88199202: 'B', 88203002: 'B', 88206102: 'M', 882488: 'B', 88249602: 'B', 88299702: 'M', 883263: 'M', 883270: 'B', 88330202: 'M', 88350402: 'B', 883539: 'B', 883852: 'B', 88411702: 'B', 884180: 'M', 884437: 'B', 884448: 'B', 884626: 'B', 88466802: 'B', 884689: 'B', 884948: 'M', 88518501: 'B', 885429: 'M', 8860702: 'M', 886226: 'M', 886452: 'M', 88649001: 'M', 886776: 'M', 887181: 'M', 88725602: 'M', 887549: 'M', 888264: 'M', 888570: 'M', 889403: 'M', 889719: 'M', 88995002: 'M', 8910251: 'B', 8910499: 'B', 8910506: 'B', 8910720: 'B', 8910721: 'B', 8910748: 'B', 8910988: 'M', 8910996: 'B', 8911163: 'M', 8911164: 'B', 8911230: 'B', 8911670: 'M', 8911800: 'B', 8911834: 'B', 8912049: 'M', 8912055: 'B', 89122: 'M', 8912280: 'M', 8912284: 'B', 8912521: 'B', 8912909: 'B', 8913: 'B', 8913049: 'B', 89143601: 'B', 89143602: 'B', 8915: 'B', 891670: 'B', 891703: 'B', 891716: 'B', 891923: 'B', 891936: 'B', 892189: 'M', 892214: 'B', 892399: 'B', 892438: 'M', 892604: 'B', 89263202: 'M', 892657: 'B', 89296: 'B', 893061: 'B', 89344: 'B', 89346: 'B', 893526: 'B', 893548: 'B', 893783: 'B', 89382601: 'B', 89382602: 'B', 893988: 'B', 894047: 'B', 894089: 'B', 894090: 'B', 894326: 'M', 894329: 'B', 894335: 'B', 894604: 'B', 894618: 'M', 894855: 'B', 895100: 'M', 89511501: 'B', 89511502: 'B', 89524: 'B', 895299: 'B', 8953902: 'M', 895633: 'M', 896839: 'M', 896864: 'B', 897132: 'B', 897137: 'B', 897374: 'B', 89742801: 'M', 897604: 'B', 897630: 'M', 897880: 'B', 89812: 'M', 89813: 'B', 898143: 'B', 89827: 'B', 898431: 'M', 89864002: 'B', 898677: 'B', 898678: 'B', 89869: 'B', 898690: 'B', 899147: 'B', 899187: 'B', 899667: 'M', 899987: 'M', 9010018: 'M', 901011: 'B', 9010258: 'B', 9010259: 'B', 901028: 'B', 9010333: 'B', 901034301: 'B', 901034302: 'B', 901041: 'B', 9010598: 'B', 9010872: 'B', 9010877: 'B', 901088: 'M', 9011494: 'M', 9011495: 'B', 9011971: 'M', 9012000: 'M', 9012315: 'M', 9012568: 'B', 9012795: 'M', 901288: 'M', 9013005: 'B', 901303: 'B', 901315: 'B', 9013579: 'B', 9013594: 'B', 9013838: 'M', 901549: 'B', 901836: 'B', 90250: 'B', 90251: 'B', 902727: 'B', 90291: 'M', 902975: 'B', 902976: 'B', 903011: 'B', 90312: 'M', 90317302: 'B', 903483: 'B', 903507: 'M', 903516: 'M', 903554: 'B', 903811: 'B', 90401601: 'B', 90401602: 'B', 904302: 'B', 904357: 'B', 90439701: 'M', 904647: 'B', 904689: 'B', 9047: 'B', 904969: 'B', 904971: 'B', 905189: 'B', 905190: 'B', 90524101: 'M', 905501: 'B', 905502: 'B', 905520: 'B', 905539: 'B', 905557: 'B', 905680: 'M', 905686: 'B', 905978: 'B', 90602302: 'M', 906024: 'B', 906290: 'B', 906539: 'B', 906564: 'B', 906616: 'B', 906878: 'B', 907145: 'B', 907367: 'B', 907409: 'B', 90745: 'B', 90769601: 'B', 90769602: 'B', 907914: 'M', 907915: 'B', 908194: 'M', 908445: 'M', 908469: 'B', 908489: 'M', 908916: 'B', 909220: 'B', 909231: 'B', 909410: 'B', 909411: 'B', 909445: 'M', 90944601: 'B', 909777: 'B', 9110127: 'M', 9110720: 'B', 9110732: 'M', 9110944: 'B', 911150: 'B', 911157302: 'M', 9111596: 'B', 9111805: 'M', 9111843: 'B', 911201: 'B', 911202: 'B', 9112085: 'B', 9112366: 'B', 9112367: 'B', 9112594: 'B', 9112712: 'B', 911296201: 'M', 911296202: 'M', 9113156: 'B', 911320501: 'B', 911320502: 'B', 9113239: 'B', 9113455: 'B', 9113514: 'B', 9113538: 'M', 911366: 'B', 9113778: 'B', 9113816: 'B', 911384: 'B', 9113846: 'B', 911391: 'B', 911408: 'B', 911654: 'B', 911673: 'B', 911685: 'B', 911916: 'M', 912193: 'B', 91227: 'B', 912519: 'B', 912558: 'B', 912600: 'B', 913063: 'B', 913102: 'B', 913505: 'M', 913512: 'B', 913535: 'M', 91376701: 'B', 91376702: 'B', 914062: 'M', 914101: 'B', 914102: 'B', 914333: 'B', 914366: 'B', 914580: 'B', 914769: 'M', 91485: 'M', 914862: 'B', 91504: 'M', 91505: 'B', 915143: 'M', 915186: 'B', 915276: 'B', 91544001: 'B', 91544002: 'B', 915452: 'B', 915460: 'M', 91550: 'B', 915664: 'B', 915691: 'M', 915940: 'B', 91594602: 'M', 916221: 'B', 916799: 'M', 916838: 'M', 917062: 'B', 917080: 'B', 917092: 'B', 91762702: 'M', 91789: 'B', 917896: 'B', 917897: 'B', 91805: 'B', 91813701: 'B', 91813702: 'B', 918192: 'B', 918465: 'B', 91858: 'B', 91903901: 'B', 91903902: 'B', 91930402: 'M', 919537: 'B', 919555: 'M', 91979701: 'M', 919812: 'B', 921092: 'B', 921362: 'B', 921385: 'B', 921386: 'B', 921644: 'B', 922296: 'B', 922297: 'B', 922576: 'B', 922577: 'B', 922840: 'B', 923169: 'B', 923465: 'B', 923748: 'B', 923780: 'B', 924084: 'B', 924342: 'B', 924632: 'B', 924934: 'B', 924964: 'B', 925236: 'B', 925277: 'B', 925291: 'B', 925292: 'B', 925311: 'B', 925622: 'M', 926125: 'M', 926424: 'M', 926682: 'M', 926954: 'M', 927241: 'M', 92751: 'B'}}\n"
     ]
    }
   ],
   "metadata": {}
  },
  {
   "cell_type": "code",
   "execution_count": null,
   "source": [
    "#prediction function\r\n",
    "def predict(tree, instance):\r\n",
    "    if not isinstance(tree, dict): #if it is leaf node\r\n",
    "        return tree #return the value\r\n",
    "    else:\r\n",
    "        root_node = next(iter(tree)) #getting first key/feature name of the dictionary\r\n",
    "        feature_value = instance[root_node] #value of the feature\r\n",
    "        if feature_value in tree[root_node]: #checking the feature value in current tree node\r\n",
    "            return predict(tree[root_node][feature_value], instance) #goto next feature\r\n",
    "        else:\r\n",
    "            return None"
   ],
   "outputs": [],
   "metadata": {}
  },
  {
   "cell_type": "code",
   "execution_count": null,
   "source": [
    "#function to do the final evaluation\r\n",
    "def evaluate(tree, test_data_m, label):\r\n",
    "    correct_preditct = 0\r\n",
    "    wrong_preditct = 0\r\n",
    "    for index, row in test_data_m.iterrows(): #for each row in the dataset\r\n",
    "        result = predict(tree, test_data_m.iloc[index]) #predict the row\r\n",
    "        if result == test_data_m[label].iloc[index]: #predicted value and expected value is same or not\r\n",
    "            correct_preditct += 1 #increase correct count\r\n",
    "        else:\r\n",
    "            wrong_preditct += 1 #increase incorrect count\r\n",
    "    accuracy = correct_preditct / (correct_preditct + wrong_preditct) #calculating accuracy\r\n",
    "    return accuracy"
   ],
   "outputs": [],
   "metadata": {}
  },
  {
   "cell_type": "code",
   "execution_count": null,
   "source": [
    "\r\n",
    "accuracy = evaluate(tree, df,'diagnosis') #evaluating the test dataset\r\n",
    "print(\"Your estimated accuracy is:\",accuracy)"
   ],
   "outputs": [
    {
     "output_type": "stream",
     "name": "stdout",
     "text": [
      "Your estimated accuracy is: 1.0\n"
     ]
    }
   ],
   "metadata": {}
  },
  {
   "cell_type": "markdown",
   "source": [
    "## Calculate cnofusion matrix & Classification report using sklearn.tree model"
   ],
   "metadata": {}
  },
  {
   "cell_type": "code",
   "execution_count": null,
   "source": [
    "from sklearn.model_selection import train_test_split\r\n",
    "X = df.drop(columns=['diagnosis','Unnamed: 32']) #Unamed:32 contains Nan values so we drop it\r\n",
    "y = df['diagnosis']\r\n",
    "X_train, X_test, y_train, y_test = train_test_split(X, y, test_size=0.20) #split the data\r\n"
   ],
   "outputs": [],
   "metadata": {}
  },
  {
   "cell_type": "code",
   "execution_count": null,
   "source": [
    "from sklearn.tree import DecisionTreeClassifier\r\n",
    "from sklearn.metrics import classification_report, confusion_matrix\r\n",
    "classifier = DecisionTreeClassifier()\r\n",
    "classifier.fit(X_train, y_train)\r\n",
    "y_pred = classifier.predict(X_test) #make prediciton"
   ],
   "outputs": [],
   "metadata": {}
  },
  {
   "cell_type": "code",
   "execution_count": null,
   "source": [
    "#get the confusion matrix\r\n",
    "from sklearn.metrics import classification_report, confusion_matrix\r\n",
    "import seaborn as sns\r\n",
    "print(\"confusion matrix:\\n\",confusion_matrix(y_test, y_pred))\r\n",
    "sns.heatmap(confusion_matrix(y_test,y_pred), cmap=\"Blues\", annot=True)"
   ],
   "outputs": [
    {
     "output_type": "stream",
     "name": "stdout",
     "text": [
      "confusion matrix:\n",
      " [[69  3]\n",
      " [ 7 35]]\n"
     ]
    },
    {
     "output_type": "execute_result",
     "data": {
      "text/plain": [
       "<AxesSubplot: >"
      ]
     },
     "metadata": {},
     "execution_count": 36
    },
    {
     "output_type": "display_data",
     "data": {
      "text/plain": [
       "<Figure size 640x480 with 2 Axes>"
      ],
      "image/png": "[encoded data removed]"
     },
     "metadata": {}
    }
   ],
   "metadata": {}
  },
  {
   "cell_type": "code",
   "execution_count": null,
   "source": [
    "#print the classification report\r\n",
    "print(\"Classification Report:\\n\",classification_report(y_test, y_pred))"
   ],
   "outputs": [
    {
     "output_type": "stream",
     "name": "stdout",
     "text": [
      "Classification Report:\n",
      "               precision    recall  f1-score   support\n",
      "\n",
      "           B       0.91      0.96      0.93        72\n",
      "           M       0.92      0.83      0.88        42\n",
      "\n",
      "    accuracy                           0.91       114\n",
      "   macro avg       0.91      0.90      0.90       114\n",
      "weighted avg       0.91      0.91      0.91       114\n",
      "\n"
     ]
    }
   ],
   "metadata": {}
  }
 ],
 "metadata": {
  "orig_nbformat": 4,
  "language_info": {
   "name": "python",
   "version": "3.10.6",
   "mimetype": "text/x-python",
   "codemirror_mode": {
    "name": "ipython",
    "version": 3
   },
   "pygments_lexer": "ipython3",
   "nbconvert_exporter": "python",
   "file_extension": ".py"
  },
  "kernelspec": {
   "name": "python3",
   "display_name": "Python 3.10.6 64-bit"
  },
  "interpreter": {
   "hash": "46f52deec83a59e7816093c53e4585ac88cc6d89b2339bf7f71bdff177af4833"
  }
 },
 "nbformat": 4,
 "nbformat_minor": 2
}